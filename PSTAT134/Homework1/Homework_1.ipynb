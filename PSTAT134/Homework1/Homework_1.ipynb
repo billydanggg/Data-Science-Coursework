{
 "cells": [
  {
   "cell_type": "markdown",
   "id": "be9d6875-5f88-4a5c-8f1f-36972e3647d7",
   "metadata": {},
   "source": [
    "# Homework 1\n",
    "## PSTAT 134 \n",
    "For this assignment, you may use R or Python, or a combination of both, to complete both case studies. You can use the code that we include in Labs 1 and 2 to answer these questions. You also may need to use other functions. I encourage you to make use of our textbook(s) and use the Internet to help you solve these problems. You can also work together with your classmates. If you do work together, you should provide the names of those classmates below."
   ]
  },
  {
   "cell_type": "code",
   "execution_count": 116,
   "id": "7f4d6df3-f57a-450a-b12a-6037a9d16e4e",
   "metadata": {},
   "outputs": [],
   "source": [
    "#Prepare libraries\n",
    "import pandas as pd\n",
    "import seaborn as sns\n",
    "import numpy as np\n",
    "import matplotlib.pyplot as plt"
   ]
  },
  {
   "cell_type": "markdown",
   "id": "95ba0ebf-c82b-4bd2-93d2-af845a01aa49",
   "metadata": {},
   "source": [
    "### Case Study: New York Times Ad Impressions (Simulated)\n",
    "There are 10 data sets in the /data subdirectory names nyt1.csv, nyt2.csv, ..., nyt10.csv. Each file represents one day's worth of simulate data on ad impressions and clicks on the [New York Times home-page](https://www.nytimes.com/). Each row represents a single user. There are five colums total:\n",
    "- Age (user's age)\n",
    "- Gender (user's gender, coded as 0 = female, 1 = male)\n",
    "- Impressions (number of ads displayed during the user's visit)\n",
    "- Clicks (number of clicks made by the user)\n",
    "- Signed_In (wheter or not the user was sign in as a member)\n",
    "\n",
    "Load a **single data file** and do the following:"
   ]
  },
  {
   "cell_type": "markdown",
   "id": "4175f987-18b7-44a2-8db1-13e98fca76a4",
   "metadata": {},
   "source": [
    "1. Create a new variable, *age_group* that categorizes users in the following age groups: < 18, 18-24, 25-34, 35-44, 45-54, 55-64, and 65+"
   ]
  },
  {
   "cell_type": "code",
   "execution_count": 120,
   "id": "51ea6275-2535-4c3f-b64e-ad8a59d6446e",
   "metadata": {
    "scrolled": true
   },
   "outputs": [
    {
     "data": {
      "text/html": [
       "<div>\n",
       "<style scoped>\n",
       "    .dataframe tbody tr th:only-of-type {\n",
       "        vertical-align: middle;\n",
       "    }\n",
       "\n",
       "    .dataframe tbody tr th {\n",
       "        vertical-align: top;\n",
       "    }\n",
       "\n",
       "    .dataframe thead th {\n",
       "        text-align: right;\n",
       "    }\n",
       "</style>\n",
       "<table border=\"1\" class=\"dataframe\">\n",
       "  <thead>\n",
       "    <tr style=\"text-align: right;\">\n",
       "      <th></th>\n",
       "      <th>Age</th>\n",
       "      <th>Gender</th>\n",
       "      <th>Impressions</th>\n",
       "      <th>Clicks</th>\n",
       "      <th>Signed_In</th>\n",
       "    </tr>\n",
       "  </thead>\n",
       "  <tbody>\n",
       "    <tr>\n",
       "      <th>0</th>\n",
       "      <td>36</td>\n",
       "      <td>0</td>\n",
       "      <td>3</td>\n",
       "      <td>0</td>\n",
       "      <td>1</td>\n",
       "    </tr>\n",
       "  </tbody>\n",
       "</table>\n",
       "</div>"
      ],
      "text/plain": [
       "   Age  Gender  Impressions  Clicks  Signed_In\n",
       "0   36       0            3       0          1"
      ]
     },
     "execution_count": 120,
     "metadata": {},
     "output_type": "execute_result"
    }
   ],
   "source": [
    "#Loading in the data file \n",
    "ny_data_1 = pd.read_csv(\"data/nyt1.csv\")\n",
    "ny_data_1.head(1)"
   ]
  },
  {
   "cell_type": "code",
   "execution_count": 122,
   "id": "a1a3a11d-b23d-467f-aa35-4bf698ce42e6",
   "metadata": {},
   "outputs": [
    {
     "data": {
      "text/html": [
       "<div>\n",
       "<style scoped>\n",
       "    .dataframe tbody tr th:only-of-type {\n",
       "        vertical-align: middle;\n",
       "    }\n",
       "\n",
       "    .dataframe tbody tr th {\n",
       "        vertical-align: top;\n",
       "    }\n",
       "\n",
       "    .dataframe thead th {\n",
       "        text-align: right;\n",
       "    }\n",
       "</style>\n",
       "<table border=\"1\" class=\"dataframe\">\n",
       "  <thead>\n",
       "    <tr style=\"text-align: right;\">\n",
       "      <th></th>\n",
       "      <th>Age</th>\n",
       "      <th>Gender</th>\n",
       "      <th>Impressions</th>\n",
       "      <th>Clicks</th>\n",
       "      <th>Signed_In</th>\n",
       "      <th>age_group</th>\n",
       "    </tr>\n",
       "  </thead>\n",
       "  <tbody>\n",
       "    <tr>\n",
       "      <th>0</th>\n",
       "      <td>36</td>\n",
       "      <td>0</td>\n",
       "      <td>3</td>\n",
       "      <td>0</td>\n",
       "      <td>1</td>\n",
       "      <td>35-44</td>\n",
       "    </tr>\n",
       "  </tbody>\n",
       "</table>\n",
       "</div>"
      ],
      "text/plain": [
       "   Age  Gender  Impressions  Clicks  Signed_In age_group\n",
       "0   36       0            3       0          1     35-44"
      ]
     },
     "execution_count": 122,
     "metadata": {},
     "output_type": "execute_result"
    }
   ],
   "source": [
    "#Creating age_group to categorize users\n",
    "age_bins = [-1, 17, 24, 34, 44, 54, 65, float('inf')]\n",
    "age_labels = ['< 18', '18-24', '25-34', '35-44', '45-54', '55-64', '65+']\n",
    "\n",
    "ny_data_1['age_group'] = pd.cut(ny_data_1['Age'], \n",
    "                                bins = age_bins, \n",
    "                                labels = age_labels, \n",
    "                                right = True)\n",
    "ny_data_1.head(1)"
   ]
  },
  {
   "cell_type": "markdown",
   "id": "e8fb3a06-14a4-42dd-88c9-598f7f2fc4b2",
   "metadata": {},
   "source": [
    "2. Plot the distributions of impressions and \"click-through rate\" for all 6 age categories. (Click-through rate is defined as the number of clicks divided by the number of impressions)"
   ]
  },
  {
   "cell_type": "code",
   "execution_count": 125,
   "id": "483cec97-43fc-431d-8063-e066f4e84ddf",
   "metadata": {},
   "outputs": [
    {
     "data": {
      "text/plain": [
       "Age                   0\n",
       "Gender                0\n",
       "Impressions           0\n",
       "Clicks                0\n",
       "Signed_In             0\n",
       "age_group             0\n",
       "click_thru_rate    3066\n",
       "dtype: int64"
      ]
     },
     "execution_count": 125,
     "metadata": {},
     "output_type": "execute_result"
    }
   ],
   "source": [
    "#Creating click_thru_rate variable to plot\n",
    "ny_data_1['click_thru_rate'] = ny_data_1['Clicks']/ny_data_1['Impressions']\n",
    "ny_data_1.isnull().sum()"
   ]
  },
  {
   "cell_type": "code",
   "execution_count": 127,
   "id": "0c30e28d-5b5a-4e15-b35f-8da243be9d30",
   "metadata": {},
   "outputs": [],
   "source": [
    "#Replacing NaN values with 0 as 0 impressions would result in 0 clicks anyways\n",
    "ny_data_1['click_thru_rate'].fillna(0, inplace=True)  "
   ]
  },
  {
   "cell_type": "code",
   "execution_count": 166,
   "id": "d1ccf02f-2272-4acc-9068-73a70b8e767a",
   "metadata": {},
   "outputs": [
    {
     "data": {
      "text/html": [
       "<div>\n",
       "<style scoped>\n",
       "    .dataframe tbody tr th:only-of-type {\n",
       "        vertical-align: middle;\n",
       "    }\n",
       "\n",
       "    .dataframe tbody tr th {\n",
       "        vertical-align: top;\n",
       "    }\n",
       "\n",
       "    .dataframe thead th {\n",
       "        text-align: right;\n",
       "    }\n",
       "</style>\n",
       "<table border=\"1\" class=\"dataframe\">\n",
       "  <thead>\n",
       "    <tr style=\"text-align: right;\">\n",
       "      <th></th>\n",
       "      <th>Age</th>\n",
       "      <th>Gender</th>\n",
       "      <th>Impressions</th>\n",
       "      <th>Clicks</th>\n",
       "      <th>Signed_In</th>\n",
       "      <th>click_thru_rate</th>\n",
       "    </tr>\n",
       "  </thead>\n",
       "  <tbody>\n",
       "    <tr>\n",
       "      <th>count</th>\n",
       "      <td>458441.000000</td>\n",
       "      <td>458441.000000</td>\n",
       "      <td>458441.000000</td>\n",
       "      <td>458441.000000</td>\n",
       "      <td>458441.000000</td>\n",
       "      <td>458441.000000</td>\n",
       "    </tr>\n",
       "    <tr>\n",
       "      <th>mean</th>\n",
       "      <td>29.482551</td>\n",
       "      <td>0.367037</td>\n",
       "      <td>5.007316</td>\n",
       "      <td>0.092594</td>\n",
       "      <td>0.700930</td>\n",
       "      <td>0.018347</td>\n",
       "    </tr>\n",
       "    <tr>\n",
       "      <th>std</th>\n",
       "      <td>23.607034</td>\n",
       "      <td>0.481997</td>\n",
       "      <td>2.239349</td>\n",
       "      <td>0.309973</td>\n",
       "      <td>0.457851</td>\n",
       "      <td>0.068820</td>\n",
       "    </tr>\n",
       "    <tr>\n",
       "      <th>min</th>\n",
       "      <td>0.000000</td>\n",
       "      <td>0.000000</td>\n",
       "      <td>0.000000</td>\n",
       "      <td>0.000000</td>\n",
       "      <td>0.000000</td>\n",
       "      <td>0.000000</td>\n",
       "    </tr>\n",
       "    <tr>\n",
       "      <th>25%</th>\n",
       "      <td>0.000000</td>\n",
       "      <td>0.000000</td>\n",
       "      <td>3.000000</td>\n",
       "      <td>0.000000</td>\n",
       "      <td>0.000000</td>\n",
       "      <td>0.000000</td>\n",
       "    </tr>\n",
       "    <tr>\n",
       "      <th>50%</th>\n",
       "      <td>31.000000</td>\n",
       "      <td>0.000000</td>\n",
       "      <td>5.000000</td>\n",
       "      <td>0.000000</td>\n",
       "      <td>1.000000</td>\n",
       "      <td>0.000000</td>\n",
       "    </tr>\n",
       "    <tr>\n",
       "      <th>75%</th>\n",
       "      <td>48.000000</td>\n",
       "      <td>1.000000</td>\n",
       "      <td>6.000000</td>\n",
       "      <td>0.000000</td>\n",
       "      <td>1.000000</td>\n",
       "      <td>0.000000</td>\n",
       "    </tr>\n",
       "    <tr>\n",
       "      <th>max</th>\n",
       "      <td>108.000000</td>\n",
       "      <td>1.000000</td>\n",
       "      <td>20.000000</td>\n",
       "      <td>4.000000</td>\n",
       "      <td>1.000000</td>\n",
       "      <td>1.000000</td>\n",
       "    </tr>\n",
       "  </tbody>\n",
       "</table>\n",
       "</div>"
      ],
      "text/plain": [
       "                 Age         Gender    Impressions         Clicks  \\\n",
       "count  458441.000000  458441.000000  458441.000000  458441.000000   \n",
       "mean       29.482551       0.367037       5.007316       0.092594   \n",
       "std        23.607034       0.481997       2.239349       0.309973   \n",
       "min         0.000000       0.000000       0.000000       0.000000   \n",
       "25%         0.000000       0.000000       3.000000       0.000000   \n",
       "50%        31.000000       0.000000       5.000000       0.000000   \n",
       "75%        48.000000       1.000000       6.000000       0.000000   \n",
       "max       108.000000       1.000000      20.000000       4.000000   \n",
       "\n",
       "           Signed_In  click_thru_rate  \n",
       "count  458441.000000    458441.000000  \n",
       "mean        0.700930         0.018347  \n",
       "std         0.457851         0.068820  \n",
       "min         0.000000         0.000000  \n",
       "25%         0.000000         0.000000  \n",
       "50%         1.000000         0.000000  \n",
       "75%         1.000000         0.000000  \n",
       "max         1.000000         1.000000  "
      ]
     },
     "execution_count": 166,
     "metadata": {},
     "output_type": "execute_result"
    }
   ],
   "source": [
    "ny_data_1.describe()"
   ]
  },
  {
   "cell_type": "code",
   "execution_count": 162,
   "id": "4462267f-67a8-4b78-b44d-fc7828dea55e",
   "metadata": {},
   "outputs": [
    {
     "data": {
      "image/png": "[encoded data removed]",
      "text/plain": [
       "<Figure size 640x480 with 1 Axes>"
      ]
     },
     "metadata": {},
     "output_type": "display_data"
    }
   ],
   "source": [
    "sns.barplot(data = ny_data_1, x = 'age_group', y = 'Impressions', estimator = sum)\n",
    "plt.title(\"Distribution of Impressions Across Age Groups\"), plt.xlabel('Age Group'), plt.ylabel('# of Impressions');"
   ]
  },
  {
   "cell_type": "code",
   "execution_count": 171,
   "id": "0e5f0487-964c-41bd-b3c6-2b31c21b44a9",
   "metadata": {},
   "outputs": [
    {
     "data": {
      "image/png": "[encoded data removed]",
      "text/plain": [
       "<Figure size 640x480 with 1 Axes>"
      ]
     },
     "metadata": {},
     "output_type": "display_data"
    }
   ],
   "source": [
    "sns.boxplot(data = ny_data_1, x = 'age_group', y = 'click_thru_rate')\n",
    "plt.xlabel(\"Age Group\"), plt.ylabel(\"Click Thru Rate\");"
   ]
  },
  {
   "cell_type": "markdown",
   "id": "f2e4ad74-702d-456e-a818-506d807e3868",
   "metadata": {},
   "source": [
    "3. Create a new variable to categorize users based on their click behavior. Explain what decisions you make and why."
   ]
  },
  {
   "cell_type": "markdown",
   "id": "5a848307-9eb1-4d78-9fae-7a652c53460c",
   "metadata": {},
   "source": [
    "> After using .describe() and based on the graph above, it can be seen that average click-through rates are on average, really low (w/ a mean of 1.8 %). It is important to note that this number may have been brought down from users that never saw any ads (0 impressions) which would automatically make them a 0% CTR. The following will be taken into account when creating our categories but before doing that, further analysis of CTR must be done."
   ]
  },
  {
   "cell_type": "code",
   "execution_count": 188,
   "id": "9d051643-7bf8-4f3a-989d-a4d17fc02a31",
   "metadata": {},
   "outputs": [
    {
     "name": "stdout",
     "output_type": "stream",
     "text": [
      "age_group\n",
      "< 18     0.028337\n",
      "18-24    0.010658\n",
      "25-34    0.010081\n",
      "35-44    0.010219\n",
      "45-54    0.009889\n",
      "55-64    0.020325\n",
      "65+      0.029724\n",
      "Name: click_thru_rate, dtype: float64\n"
     ]
    }
   ],
   "source": [
    "avg_click_thru_rate = ny_data_1.groupby('age_group')['click_thru_rate'].mean()\n",
    "print(avg_click_thru_rate)"
   ]
  },
  {
   "cell_type": "code",
   "execution_count": 190,
   "id": "e636dda7-a1a6-4eec-8cee-c0dddf3ebdd4",
   "metadata": {},
   "outputs": [
    {
     "name": "stdout",
     "output_type": "stream",
     "text": [
      "age_group\n",
      "< 18     0.085287\n",
      "18-24    0.052954\n",
      "25-34    0.050704\n",
      "35-44    0.050962\n",
      "45-54    0.049822\n",
      "55-64    0.071814\n",
      "65+      0.084013\n",
      "Name: click_thru_rate, dtype: float64\n"
     ]
    }
   ],
   "source": [
    "std_click_thru_rate = ny_data_1.groupby('age_group')['click_thru_rate'].std()\n",
    "print(std_click_thru_rate)"
   ]
  },
  {
   "cell_type": "markdown",
   "id": "57821904-cef7-414c-9453-d8e60474c3e4",
   "metadata": {},
   "source": [
    "> Our click_through rate categories will be as follows:\n",
    "> - No Impression: This is for users that were never presented ads in the first place (0 impressions)\n",
    "> - View Only: For users that saw ads but did not click through\n",
    "> - Occasional: For users that had a click_thru_rate of < .1\n",
    "> - Frequent: For users with a click_thru_rate of >= .1\n",
    ">\n",
    "> .1 was chosen as most users fell under this CTR, and a CTR over would prove to be frequent relative to the population average."
   ]
  },
  {
   "cell_type": "code",
   "execution_count": 203,
   "id": "1b9b9378-51a2-414c-90be-de7edb024909",
   "metadata": {},
   "outputs": [],
   "source": [
    "#Used Chat-gpt w/ prompt: Create a function to apply the following conditions \"\" to create new variable click_behavior\n",
    "def categorize_click_behavior(row):\n",
    "    if row['Impressions'] == 0 and row['Clicks'] == 0:\n",
    "        return 'No Impression'\n",
    "    elif row['Clicks'] == 0 and row['Impressions'] > 0:\n",
    "        return 'View Only'\n",
    "    elif row['click_thru_rate'] < 0.1:\n",
    "        return 'Occasional'\n",
    "    else:\n",
    "        return 'Frequent'"
   ]
  },
  {
   "cell_type": "code",
   "execution_count": 212,
   "id": "df128dbf-828a-45d7-8e3b-c6579973b496",
   "metadata": {
    "scrolled": true
   },
   "outputs": [
    {
     "data": {
      "text/html": [
       "<div>\n",
       "<style scoped>\n",
       "    .dataframe tbody tr th:only-of-type {\n",
       "        vertical-align: middle;\n",
       "    }\n",
       "\n",
       "    .dataframe tbody tr th {\n",
       "        vertical-align: top;\n",
       "    }\n",
       "\n",
       "    .dataframe thead th {\n",
       "        text-align: right;\n",
       "    }\n",
       "</style>\n",
       "<table border=\"1\" class=\"dataframe\">\n",
       "  <thead>\n",
       "    <tr style=\"text-align: right;\">\n",
       "      <th></th>\n",
       "      <th>Age</th>\n",
       "      <th>Gender</th>\n",
       "      <th>Impressions</th>\n",
       "      <th>Clicks</th>\n",
       "      <th>Signed_In</th>\n",
       "      <th>age_group</th>\n",
       "      <th>click_thru_rate</th>\n",
       "      <th>click_behavior</th>\n",
       "    </tr>\n",
       "  </thead>\n",
       "  <tbody>\n",
       "    <tr>\n",
       "      <th>3000</th>\n",
       "      <td>42</td>\n",
       "      <td>1</td>\n",
       "      <td>4</td>\n",
       "      <td>0</td>\n",
       "      <td>1</td>\n",
       "      <td>35-44</td>\n",
       "      <td>0.000000</td>\n",
       "      <td>View Only</td>\n",
       "    </tr>\n",
       "    <tr>\n",
       "      <th>3001</th>\n",
       "      <td>40</td>\n",
       "      <td>1</td>\n",
       "      <td>5</td>\n",
       "      <td>0</td>\n",
       "      <td>1</td>\n",
       "      <td>35-44</td>\n",
       "      <td>0.000000</td>\n",
       "      <td>View Only</td>\n",
       "    </tr>\n",
       "    <tr>\n",
       "      <th>3002</th>\n",
       "      <td>51</td>\n",
       "      <td>0</td>\n",
       "      <td>5</td>\n",
       "      <td>0</td>\n",
       "      <td>1</td>\n",
       "      <td>45-54</td>\n",
       "      <td>0.000000</td>\n",
       "      <td>View Only</td>\n",
       "    </tr>\n",
       "    <tr>\n",
       "      <th>3003</th>\n",
       "      <td>32</td>\n",
       "      <td>1</td>\n",
       "      <td>7</td>\n",
       "      <td>0</td>\n",
       "      <td>1</td>\n",
       "      <td>25-34</td>\n",
       "      <td>0.000000</td>\n",
       "      <td>View Only</td>\n",
       "    </tr>\n",
       "    <tr>\n",
       "      <th>3004</th>\n",
       "      <td>46</td>\n",
       "      <td>0</td>\n",
       "      <td>3</td>\n",
       "      <td>0</td>\n",
       "      <td>1</td>\n",
       "      <td>45-54</td>\n",
       "      <td>0.000000</td>\n",
       "      <td>View Only</td>\n",
       "    </tr>\n",
       "    <tr>\n",
       "      <th>3005</th>\n",
       "      <td>62</td>\n",
       "      <td>1</td>\n",
       "      <td>3</td>\n",
       "      <td>1</td>\n",
       "      <td>1</td>\n",
       "      <td>55-64</td>\n",
       "      <td>0.333333</td>\n",
       "      <td>Frequent</td>\n",
       "    </tr>\n",
       "  </tbody>\n",
       "</table>\n",
       "</div>"
      ],
      "text/plain": [
       "      Age  Gender  Impressions  Clicks  Signed_In age_group  click_thru_rate  \\\n",
       "3000   42       1            4       0          1     35-44         0.000000   \n",
       "3001   40       1            5       0          1     35-44         0.000000   \n",
       "3002   51       0            5       0          1     45-54         0.000000   \n",
       "3003   32       1            7       0          1     25-34         0.000000   \n",
       "3004   46       0            3       0          1     45-54         0.000000   \n",
       "3005   62       1            3       1          1     55-64         0.333333   \n",
       "\n",
       "     click_behavior  \n",
       "3000      View Only  \n",
       "3001      View Only  \n",
       "3002      View Only  \n",
       "3003      View Only  \n",
       "3004      View Only  \n",
       "3005       Frequent  "
      ]
     },
     "execution_count": 212,
     "metadata": {},
     "output_type": "execute_result"
    }
   ],
   "source": [
    "ny_data_1['click_behavior'] = ny_data_1.apply(categorize_click_behavior, axis = 1)\n",
    "#Looking through random subset of rows to examine change\n",
    "ny_data_1.iloc[3000:3006]"
   ]
  },
  {
   "cell_type": "markdown",
   "id": "3da0bfdb-4e7c-44b6-9941-9535b2ca3ede",
   "metadata": {},
   "source": [
    "4. Explore the data and make visual and quantitative comparisons across user segments/demographics to answer the following:\n",
    "    - How do < 18 year old males differ from < 18 year old females in terms of clicks & impressions\n",
    "    - How does the distributions of click-through rate for users who are signed in differ from the distributions for those who are not signed in?\n",
    "    - Are certain age groups more likely to be signed in than others? Which ones?"
   ]
  },
  {
   "cell_type": "code",
   "execution_count": 313,
   "id": "0c451e7c-8752-4022-9ec8-5f3d81595502",
   "metadata": {},
   "outputs": [
    {
     "name": "stderr",
     "output_type": "stream",
     "text": [
      "C:\\Users\\Billy Dang\\AppData\\Local\\Temp\\ipykernel_23272\\166013795.py:2: SettingWithCopyWarning: \n",
      "A value is trying to be set on a copy of a slice from a DataFrame.\n",
      "Try using .loc[row_indexer,col_indexer] = value instead\n",
      "\n",
      "See the caveats in the documentation: https://pandas.pydata.org/pandas-docs/stable/user_guide/indexing.html#returning-a-view-versus-a-copy\n",
      "  under_18_data['Gender'] = under_18_data['Gender'].map({0: 'Female', 1: 'Male'});\n"
     ]
    }
   ],
   "source": [
    "under_18_data = ny_data_1[ny_data_1['age_group'] == '< 18']\n",
    "under_18_data['Gender'] = under_18_data['Gender'].map({0: 'Female', 1: 'Male'});"
   ]
  },
  {
   "cell_type": "code",
   "execution_count": 315,
   "id": "b8c6f4fc-9f40-4f88-ae54-c3fa8e684292",
   "metadata": {},
   "outputs": [
    {
     "data": {
      "image/png": "[encoded data removed]",
      "text/plain": [
       "<Figure size 640x480 with 1 Axes>"
      ]
     },
     "metadata": {},
     "output_type": "display_data"
    }
   ],
   "source": [
    "sns.boxplot(data = under_18_data, x = 'Gender', y = 'Impressions');"
   ]
  },
  {
   "cell_type": "code",
   "execution_count": 242,
   "id": "4f18ee50-576c-4abe-a9dc-0a42ab4d0756",
   "metadata": {},
   "outputs": [
    {
     "name": "stdout",
     "output_type": "stream",
     "text": [
      "   Gender  Impressions\n",
      "0       0     4.999738\n",
      "1       1     5.009398\n"
     ]
    }
   ],
   "source": [
    "gender_avg_impressions = under_18_data.groupby('Gender')['Impressions'].mean().reset_index()\n",
    "print(gender_avg_impressions)"
   ]
  },
  {
   "cell_type": "code",
   "execution_count": 317,
   "id": "ce5dd5bd-1a77-41d4-9ec7-34778010b8ec",
   "metadata": {},
   "outputs": [
    {
     "data": {
      "image/png": "[encoded data removed]",
      "text/plain": [
       "<Figure size 640x480 with 1 Axes>"
      ]
     },
     "metadata": {},
     "output_type": "display_data"
    }
   ],
   "source": [
    "sns.boxplot(data = under_18_data, x = 'Gender', y = 'Clicks');"
   ]
  },
  {
   "cell_type": "code",
   "execution_count": 244,
   "id": "51d574dd-436b-4db2-a72b-430374cb4f9b",
   "metadata": {},
   "outputs": [
    {
     "name": "stdout",
     "output_type": "stream",
     "text": [
      "   Gender    Clicks\n",
      "0       0  0.142531\n",
      "1       1  0.145935\n"
     ]
    }
   ],
   "source": [
    "gender_avg_clicks = under_18_data.groupby('Gender')['Clicks'].mean().reset_index()\n",
    "print(gender_avg_clicks)"
   ]
  },
  {
   "cell_type": "markdown",
   "id": "746127e1-135a-46e0-b2aa-e692f715725b",
   "metadata": {},
   "source": [
    "> We see that within the < 18 age group, there is negligible difference within the average click and impression rate between females and males."
   ]
  },
  {
   "cell_type": "code",
   "execution_count": 319,
   "id": "616671db-b783-471e-883d-dcbd81808aee",
   "metadata": {},
   "outputs": [
    {
     "data": {
      "image/png": "[encoded data removed]",
      "text/plain": [
       "<Figure size 640x480 with 1 Axes>"
      ]
     },
     "metadata": {},
     "output_type": "display_data"
    }
   ],
   "source": [
    "sns.boxplot(data = ny_data_1, x = 'Signed_In', y = 'click_thru_rate');"
   ]
  },
  {
   "cell_type": "code",
   "execution_count": 263,
   "id": "d176df97-a72e-4a3b-9937-554e70f8aa04",
   "metadata": {},
   "outputs": [
    {
     "name": "stdout",
     "output_type": "stream",
     "text": [
      "count    321335.000000\n",
      "mean          0.014159\n",
      "std           0.060090\n",
      "min           0.000000\n",
      "25%           0.000000\n",
      "50%           0.000000\n",
      "75%           0.000000\n",
      "max           1.000000\n",
      "Name: click_thru_rate, dtype: float64 \n",
      " count    137106.000000\n",
      "mean          0.028163\n",
      "std           0.085066\n",
      "min           0.000000\n",
      "25%           0.000000\n",
      "50%           0.000000\n",
      "75%           0.000000\n",
      "max           1.000000\n",
      "Name: click_thru_rate, dtype: float64\n"
     ]
    }
   ],
   "source": [
    "signed_in_summary = ny_data_1[ny_data_1['Signed_In'] == 1]['click_thru_rate'].describe()\n",
    "signed_out_summary = ny_data_1[ny_data_1['Signed_In'] == 0]['click_thru_rate'].describe()\n",
    "\n",
    "print(signed_in_summary,'\\n', signed_out_summary)"
   ]
  },
  {
   "cell_type": "markdown",
   "id": "d4b6c91b-06ab-4966-b5fc-757f0e815ae5",
   "metadata": {},
   "source": [
    "> We see that on average, signed in users have a lower CTR (1.42%) and std of that CTR (6%) while users who did not sign in had an average CTR of (2.81%) and std of that CTR (8.5%). It is important to note there were almost triple the number of signed in users, which may affect averages."
   ]
  },
  {
   "cell_type": "code",
   "execution_count": 272,
   "id": "6898290f-a361-4ad6-a761-65422f65dd0e",
   "metadata": {},
   "outputs": [
    {
     "data": {
      "image/png": "[encoded data removed]",
      "text/plain": [
       "<Figure size 640x480 with 1 Axes>"
      ]
     },
     "metadata": {},
     "output_type": "display_data"
    }
   ],
   "source": [
    "signed_in_age_count = ny_data_1.groupby(['age_group', 'Signed_In']).size().reset_index(name = 'count')\n",
    "\n",
    "sns.barplot(x = 'age_group',\n",
    "            y = 'count',\n",
    "            hue = 'Signed_In',\n",
    "            data = signed_in_age_count);"
   ]
  },
  {
   "cell_type": "code",
   "execution_count": 275,
   "id": "8aa57dc8-e8c5-4616-92f7-76e7de36def4",
   "metadata": {},
   "outputs": [
    {
     "name": "stdout",
     "output_type": "stream",
     "text": [
      "   age_group  Signed_In   count\n",
      "0       < 18          0  137106\n",
      "1       < 18          1   13828\n",
      "2      18-24          0       0\n",
      "3      18-24          1   40694\n",
      "4      25-34          0       0\n",
      "5      25-34          1   58174\n",
      "6      35-44          0       0\n",
      "7      35-44          1   70860\n",
      "8      45-54          0       0\n",
      "9      45-54          1   64288\n",
      "10     55-64          0       0\n",
      "11     55-64          1   45805\n",
      "12       65+          0       0\n",
      "13       65+          1   27686\n"
     ]
    }
   ],
   "source": [
    "print(signed_in_age_count)"
   ]
  },
  {
   "cell_type": "markdown",
   "id": "6de25732-1873-41be-a1c0-9897e471fd9d",
   "metadata": {},
   "source": [
    "> We see that the age group with the highest \"Signed_In\" count is 35-44 (with the lowest being < 18 with a signed in count under 20,000), however it is important to note that it is only by signing in that you are able to enter your age. This leads to an inflation of **not** signed in accounts within the < 18 age group as '0' is the default age for non-sign in users. It may be interesting to examine the true sign in ratio if the true age distribution for non-signed users were calculated."
   ]
  },
  {
   "cell_type": "markdown",
   "id": "cf9c0655-5e2c-4709-8a6a-e79369fe5528",
   "metadata": {},
   "source": [
    "5. Calculate summary statistics for the click-through rate. These should include quantiles, mean, median, min and max, and variance. Choose two user segments to compare these statistics across."
   ]
  },
  {
   "cell_type": "code",
   "execution_count": 286,
   "id": "b9ace5d2-9da9-418a-a014-1d9bcceb31bf",
   "metadata": {},
   "outputs": [
    {
     "name": "stdout",
     "output_type": "stream",
     "text": [
      "            mean  median  min  max  variance  q25  q75\n",
      "Gender                                                \n",
      "0       0.020969     0.0  0.0  1.0  0.005413  0.0  0.0\n",
      "1       0.013826     0.0  0.0  1.0  0.003536  0.0  0.0\n"
     ]
    }
   ],
   "source": [
    "#Used Chat-GPT w/ prompt Calculate summary statistics for the click-through rate between genders without using describe()\n",
    "ctr_gender = ny_data_1.groupby('Gender')['click_thru_rate'].agg(\n",
    "    mean='mean',\n",
    "    median='median',\n",
    "    min='min',\n",
    "    max='max',\n",
    "    variance='var',\n",
    "    q25=lambda x: x.quantile(0.25),\n",
    "    q75=lambda x: x.quantile(0.75)\n",
    ")\n",
    "\n",
    "print(ctr_gender)"
   ]
  },
  {
   "cell_type": "markdown",
   "id": "03de1d68-b20d-49e3-b0d1-d660c469ef6c",
   "metadata": {},
   "source": [
    "6. Summarize your findings in a brief (1-2 paragraph report intended for a New York Times (NYT) advertising team.\n",
    "\n",
    "> Based on our case study on the nyt1.csv file, which examined 458,441 users on a single day, there are a couple key findings in regards to advertisement impressions and click-through rates (CTR). First, we found that the age group with the lowest engagement to ads was within the (45-54) age range. These users demonstrated weak engagement through their average CTR that was measured by dividing their # of clicks by impressions. This was the only age group where average CTR was below 1% and should thus see a cut in advertisement spending. Notable age groups with stronger engagement were those under 18, 55-65, and 65+ where CTR averages nearly hit 3%. We also explored engagement between genders, which saw that on average females had a 150% higher CTR percentage than their male counter parts. The effects of being a signed in user (or not one) was also studied which posted surprising results. We actually see that non-signed in users, which account for nearly 30% of the site traffic, posted better engagement metrics than their signed-in counterparts. While a more clear-cut examination must be made to see how this behavior may vary across different age groups, the following report suggests that ad-revenue should generally be tailored to female users and/or those within the aforementioned age groups (< 18, 55-65, 65+)"
   ]
  },
  {
   "cell_type": "markdown",
   "id": "f4d93797-752b-4cca-9cdf-2a62734bf269",
   "metadata": {},
   "source": [
    "### Case Study: Social Media Engagement (Simulated)\n",
    "The data file *Time-Wasters on Social Media.csv* contains a considerable amount of simulated data intended to mimic real-world social media usage scenarios. Sourced [here](https://www.kaggle.com/datasets/zeesolver/dark-web).\n",
    "\n",
    "Read through and familiarize yourself with the variables in the dataset. Then answer the following."
   ]
  },
  {
   "cell_type": "markdown",
   "id": "8ce6987f-3c47-4961-bb40-95067429c991",
   "metadata": {},
   "source": [
    "1. Produce a summary of the user data (the information about users: age, gender, whether they own property, etc.) If you were asked to describe the \"average user\" what would you say?"
   ]
  },
  {
   "cell_type": "code",
   "execution_count": 340,
   "id": "ed286a04-90e8-4fff-9a87-cde62c93eff0",
   "metadata": {},
   "outputs": [],
   "source": [
    "social_media_data = pd.read_csv(\"data/Time-Wasters on Social Media.csv\")"
   ]
  },
  {
   "cell_type": "code",
   "execution_count": 356,
   "id": "83625cf2-cd4f-4815-bad7-f4794143e9e5",
   "metadata": {},
   "outputs": [
    {
     "data": {
      "text/html": [
       "<div>\n",
       "<style scoped>\n",
       "    .dataframe tbody tr th:only-of-type {\n",
       "        vertical-align: middle;\n",
       "    }\n",
       "\n",
       "    .dataframe tbody tr th {\n",
       "        vertical-align: top;\n",
       "    }\n",
       "\n",
       "    .dataframe thead th {\n",
       "        text-align: right;\n",
       "    }\n",
       "</style>\n",
       "<table border=\"1\" class=\"dataframe\">\n",
       "  <thead>\n",
       "    <tr style=\"text-align: right;\">\n",
       "      <th></th>\n",
       "      <th>Age</th>\n",
       "      <th>Income</th>\n",
       "      <th>Total Time Spent</th>\n",
       "      <th>Number of Sessions</th>\n",
       "      <th>Self Control</th>\n",
       "      <th>Addiction Level</th>\n",
       "      <th>Importance Score</th>\n",
       "      <th>ProductivityLoss</th>\n",
       "      <th>Scroll Rate</th>\n",
       "    </tr>\n",
       "  </thead>\n",
       "  <tbody>\n",
       "    <tr>\n",
       "      <th>count</th>\n",
       "      <td>1000.000000</td>\n",
       "      <td>1000.000000</td>\n",
       "      <td>1000.000000</td>\n",
       "      <td>1000.000000</td>\n",
       "      <td>1000.000000</td>\n",
       "      <td>1000.000000</td>\n",
       "      <td>1000.000000</td>\n",
       "      <td>1000.000000</td>\n",
       "      <td>1000.000000</td>\n",
       "    </tr>\n",
       "    <tr>\n",
       "      <th>mean</th>\n",
       "      <td>40.986000</td>\n",
       "      <td>59524.213000</td>\n",
       "      <td>151.406000</td>\n",
       "      <td>10.013000</td>\n",
       "      <td>7.094000</td>\n",
       "      <td>2.906000</td>\n",
       "      <td>5.129000</td>\n",
       "      <td>5.136000</td>\n",
       "      <td>49.774000</td>\n",
       "    </tr>\n",
       "    <tr>\n",
       "      <th>std</th>\n",
       "      <td>13.497852</td>\n",
       "      <td>23736.212925</td>\n",
       "      <td>83.952637</td>\n",
       "      <td>5.380314</td>\n",
       "      <td>2.058495</td>\n",
       "      <td>2.058495</td>\n",
       "      <td>2.582834</td>\n",
       "      <td>2.122265</td>\n",
       "      <td>29.197798</td>\n",
       "    </tr>\n",
       "    <tr>\n",
       "      <th>min</th>\n",
       "      <td>18.000000</td>\n",
       "      <td>20138.000000</td>\n",
       "      <td>10.000000</td>\n",
       "      <td>1.000000</td>\n",
       "      <td>3.000000</td>\n",
       "      <td>0.000000</td>\n",
       "      <td>1.000000</td>\n",
       "      <td>1.000000</td>\n",
       "      <td>1.000000</td>\n",
       "    </tr>\n",
       "    <tr>\n",
       "      <th>25%</th>\n",
       "      <td>29.000000</td>\n",
       "      <td>38675.250000</td>\n",
       "      <td>78.000000</td>\n",
       "      <td>6.000000</td>\n",
       "      <td>5.000000</td>\n",
       "      <td>2.000000</td>\n",
       "      <td>3.000000</td>\n",
       "      <td>3.000000</td>\n",
       "      <td>23.000000</td>\n",
       "    </tr>\n",
       "    <tr>\n",
       "      <th>50%</th>\n",
       "      <td>42.000000</td>\n",
       "      <td>58805.000000</td>\n",
       "      <td>152.000000</td>\n",
       "      <td>10.000000</td>\n",
       "      <td>7.000000</td>\n",
       "      <td>3.000000</td>\n",
       "      <td>5.000000</td>\n",
       "      <td>5.000000</td>\n",
       "      <td>50.000000</td>\n",
       "    </tr>\n",
       "    <tr>\n",
       "      <th>75%</th>\n",
       "      <td>52.000000</td>\n",
       "      <td>79792.250000</td>\n",
       "      <td>223.000000</td>\n",
       "      <td>15.000000</td>\n",
       "      <td>8.000000</td>\n",
       "      <td>5.000000</td>\n",
       "      <td>7.000000</td>\n",
       "      <td>6.000000</td>\n",
       "      <td>74.000000</td>\n",
       "    </tr>\n",
       "    <tr>\n",
       "      <th>max</th>\n",
       "      <td>64.000000</td>\n",
       "      <td>99676.000000</td>\n",
       "      <td>298.000000</td>\n",
       "      <td>19.000000</td>\n",
       "      <td>10.000000</td>\n",
       "      <td>7.000000</td>\n",
       "      <td>9.000000</td>\n",
       "      <td>9.000000</td>\n",
       "      <td>99.000000</td>\n",
       "    </tr>\n",
       "  </tbody>\n",
       "</table>\n",
       "</div>"
      ],
      "text/plain": [
       "               Age        Income  Total Time Spent  Number of Sessions  \\\n",
       "count  1000.000000   1000.000000       1000.000000         1000.000000   \n",
       "mean     40.986000  59524.213000        151.406000           10.013000   \n",
       "std      13.497852  23736.212925         83.952637            5.380314   \n",
       "min      18.000000  20138.000000         10.000000            1.000000   \n",
       "25%      29.000000  38675.250000         78.000000            6.000000   \n",
       "50%      42.000000  58805.000000        152.000000           10.000000   \n",
       "75%      52.000000  79792.250000        223.000000           15.000000   \n",
       "max      64.000000  99676.000000        298.000000           19.000000   \n",
       "\n",
       "       Self Control  Addiction Level  Importance Score  ProductivityLoss  \\\n",
       "count   1000.000000      1000.000000       1000.000000       1000.000000   \n",
       "mean       7.094000         2.906000          5.129000          5.136000   \n",
       "std        2.058495         2.058495          2.582834          2.122265   \n",
       "min        3.000000         0.000000          1.000000          1.000000   \n",
       "25%        5.000000         2.000000          3.000000          3.000000   \n",
       "50%        7.000000         3.000000          5.000000          5.000000   \n",
       "75%        8.000000         5.000000          7.000000          6.000000   \n",
       "max       10.000000         7.000000          9.000000          9.000000   \n",
       "\n",
       "       Scroll Rate  \n",
       "count  1000.000000  \n",
       "mean     49.774000  \n",
       "std      29.197798  \n",
       "min       1.000000  \n",
       "25%      23.000000  \n",
       "50%      50.000000  \n",
       "75%      74.000000  \n",
       "max      99.000000  "
      ]
     },
     "execution_count": 356,
     "metadata": {},
     "output_type": "execute_result"
    }
   ],
   "source": [
    "summary_num = social_media_data[['Age', 'Income', 'Total Time Spent', 'Number of Sessions', 'Self Control', \n",
    "                                 'Addiction Level', 'Importance Score', 'ProductivityLoss', 'Scroll Rate']].describe()\n",
    "summary_num"
   ]
  },
  {
   "cell_type": "code",
   "execution_count": 350,
   "id": "05e39dd2-d7e4-49cd-95fa-0ce30c386efc",
   "metadata": {},
   "outputs": [
    {
     "data": {
      "text/html": [
       "<div>\n",
       "<style scoped>\n",
       "    .dataframe tbody tr th:only-of-type {\n",
       "        vertical-align: middle;\n",
       "    }\n",
       "\n",
       "    .dataframe tbody tr th {\n",
       "        vertical-align: top;\n",
       "    }\n",
       "\n",
       "    .dataframe thead th {\n",
       "        text-align: right;\n",
       "    }\n",
       "</style>\n",
       "<table border=\"1\" class=\"dataframe\">\n",
       "  <thead>\n",
       "    <tr style=\"text-align: right;\">\n",
       "      <th></th>\n",
       "      <th>Gender</th>\n",
       "      <th>Location</th>\n",
       "      <th>Profession</th>\n",
       "      <th>Platform</th>\n",
       "      <th>Demographics</th>\n",
       "      <th>Watch Reason</th>\n",
       "      <th>DeviceType</th>\n",
       "      <th>OS</th>\n",
       "      <th>Video Category</th>\n",
       "    </tr>\n",
       "  </thead>\n",
       "  <tbody>\n",
       "    <tr>\n",
       "      <th>0</th>\n",
       "      <td>Male</td>\n",
       "      <td>India</td>\n",
       "      <td>Students</td>\n",
       "      <td>TikTok</td>\n",
       "      <td>Rural</td>\n",
       "      <td>Habit</td>\n",
       "      <td>Smartphone</td>\n",
       "      <td>Android</td>\n",
       "      <td>Jokes/Memes</td>\n",
       "    </tr>\n",
       "  </tbody>\n",
       "</table>\n",
       "</div>"
      ],
      "text/plain": [
       "  Gender Location Profession Platform Demographics Watch Reason  DeviceType  \\\n",
       "0   Male    India   Students   TikTok        Rural        Habit  Smartphone   \n",
       "\n",
       "        OS Video Category  \n",
       "0  Android    Jokes/Memes  "
      ]
     },
     "execution_count": 350,
     "metadata": {},
     "output_type": "execute_result"
    }
   ],
   "source": [
    "summary_categ = social_media_data[['Gender', 'Location', 'Profession', 'Platform',\n",
    "                                   'Demographics', 'Watch Reason', 'DeviceType', 'OS', 'Video Category']].mode()\n",
    "summary_categ"
   ]
  },
  {
   "cell_type": "markdown",
   "id": "9466e217-62c9-42fe-842c-8c4fd29ffd49",
   "metadata": {},
   "source": [
    "> I would say the \"average\" user is a middle-aged male student from India watching Tiktok out of habit, spending roughly 2 hours a day scrolling for jokes/memes on their android."
   ]
  },
  {
   "cell_type": "markdown",
   "id": "846b9dff-982d-4659-a01e-7338425d4fe5",
   "metadata": {},
   "source": [
    "2. What video categories are more popular with younger users (up to or below age 20)? What categories are more popular with older users (age 50 or above)? Create a plot or table of the distributions of video categories preferred by younger vs. older users."
   ]
  },
  {
   "cell_type": "code",
   "execution_count": 367,
   "id": "bdd2a6f9-1df9-44a1-868f-9b3faaba8ea7",
   "metadata": {},
   "outputs": [
    {
     "data": {
      "image/png": "[encoded data removed]",
      "text/plain": [
       "<Figure size 640x480 with 1 Axes>"
      ]
     },
     "metadata": {},
     "output_type": "display_data"
    }
   ],
   "source": [
    "younger_users = social_media_data[social_media_data['Age'] <= 20]\n",
    "older_users = social_media_data[social_media_data['Age'] >= 50]\n",
    "\n",
    "younger_video_categories = younger_users['Video Category'].value_counts().reset_index()\n",
    "younger_video_categories.columns = ['Video Category', 'Count (Younger)']\n",
    "\n",
    "older_video_categories = older_users['Video Category'].value_counts().reset_index()\n",
    "older_video_categories.columns = ['Video Category', 'Count (Older)']\n",
    "\n",
    "video_category_comparison = pd.merge(younger_video_categories, older_video_categories, \n",
    "                                     on='Video Category', how='outer').fillna(0)\n",
    "index = range(len(video_category_comparison))\n",
    "bar_width = 0.4\n",
    "\n",
    "plt.bar(index, video_category_comparison['Count (Younger)'], width=bar_width, label='Younger Users (<= 20)')\n",
    "plt.bar([i + bar_width for i in index], video_category_comparison['Count (Older)'], width=bar_width, label='Older Users (>= 50)')\n",
    "\n",
    "plt.xlabel('Video Category'), plt.ylabel('Count'), plt.title('Distribution of Video Categories Preferred by Younger vs. Older Users')\n",
    "plt.xticks([i + bar_width / 2 for i in index], video_category_comparison['Video Category'], rotation=45, ha=\"right\"), plt.legend();"
   ]
  },
  {
   "cell_type": "markdown",
   "id": "4d041473-9224-46c1-9550-df7dbfe67dd5",
   "metadata": {},
   "source": [
    "> Based on the graph above we see Jokes/Memes, Life Hacks, and Pranks are the top 3 categories among older users while Entertainment, Vlogs and Jokes/Memes were the top 3 most popular genres for younger audiences."
   ]
  },
  {
   "cell_type": "markdown",
   "id": "dd6048d0-fdf4-4fcd-a77f-1304cb6b4b45",
   "metadata": {},
   "source": [
    "3. What platforms are more popular with younger users (up to or below age 20)? What platforms are more popular with older users? Create a plot of table of the distributions of platforms preferred by younger vs. older users."
   ]
  },
  {
   "cell_type": "code",
   "execution_count": 376,
   "id": "01e75c03-8f61-4102-8bd7-a625f85e5d54",
   "metadata": {},
   "outputs": [
    {
     "data": {
      "text/html": [
       "<div>\n",
       "<style scoped>\n",
       "    .dataframe tbody tr th:only-of-type {\n",
       "        vertical-align: middle;\n",
       "    }\n",
       "\n",
       "    .dataframe tbody tr th {\n",
       "        vertical-align: top;\n",
       "    }\n",
       "\n",
       "    .dataframe thead th {\n",
       "        text-align: right;\n",
       "    }\n",
       "</style>\n",
       "<table border=\"1\" class=\"dataframe\">\n",
       "  <thead>\n",
       "    <tr style=\"text-align: right;\">\n",
       "      <th></th>\n",
       "      <th>Platform</th>\n",
       "      <th>Count (Younger)</th>\n",
       "      <th>Count (Older)</th>\n",
       "    </tr>\n",
       "  </thead>\n",
       "  <tbody>\n",
       "    <tr>\n",
       "      <th>0</th>\n",
       "      <td>YouTube</td>\n",
       "      <td>23</td>\n",
       "      <td>88</td>\n",
       "    </tr>\n",
       "    <tr>\n",
       "      <th>1</th>\n",
       "      <td>TikTok</td>\n",
       "      <td>22</td>\n",
       "      <td>88</td>\n",
       "    </tr>\n",
       "    <tr>\n",
       "      <th>2</th>\n",
       "      <td>Facebook</td>\n",
       "      <td>15</td>\n",
       "      <td>63</td>\n",
       "    </tr>\n",
       "    <tr>\n",
       "      <th>3</th>\n",
       "      <td>Instagram</td>\n",
       "      <td>13</td>\n",
       "      <td>80</td>\n",
       "    </tr>\n",
       "  </tbody>\n",
       "</table>\n",
       "</div>"
      ],
      "text/plain": [
       "    Platform  Count (Younger)  Count (Older)\n",
       "0    YouTube               23             88\n",
       "1     TikTok               22             88\n",
       "2   Facebook               15             63\n",
       "3  Instagram               13             80"
      ]
     },
     "execution_count": 376,
     "metadata": {},
     "output_type": "execute_result"
    }
   ],
   "source": [
    "younger_platforms = younger_users['Platform'].value_counts().reset_index()\n",
    "younger_platforms.columns = ['Platform', 'Count (Younger)']\n",
    "\n",
    "older_platforms = older_users['Platform'].value_counts().reset_index()\n",
    "older_platforms.columns = ['Platform', 'Count (Older)']\n",
    "\n",
    "platform_comparison = pd.merge(younger_platforms, older_platforms, \n",
    "                                     on='Platform', how='outer').fillna(0)\n",
    "platform_comparison"
   ]
  },
  {
   "cell_type": "markdown",
   "id": "cc3ee80c-d5c0-4301-b54b-0a2af5a870ba",
   "metadata": {},
   "source": [
    "> Based on our table, we see YouTube is the predominant platform for younger users (up to or below age 20), barely beating out tiktok by 1 user. Meanwhile, Youtube and Tiktok are tied and most popular for older users."
   ]
  }
 ],
 "metadata": {
  "kernelspec": {
   "display_name": "Python 3 (ipykernel)",
   "language": "python",
   "name": "python3"
  },
  "language_info": {
   "codemirror_mode": {
    "name": "ipython",
    "version": 3
   },
   "file_extension": ".py",
   "mimetype": "text/x-python",
   "name": "python",
   "nbconvert_exporter": "python",
   "pygments_lexer": "ipython3",
   "version": "3.11.4"
  }
 },
 "nbformat": 4,
 "nbformat_minor": 5
}
