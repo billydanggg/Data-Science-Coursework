{
 "cells": [
  {
   "cell_type": "markdown",
   "id": "b850714d-0978-4001-a7c1-6eb267a1aee2",
   "metadata": {},
   "source": [
    "# Homework 1\n",
    "## PSTAT 131\n",
    "\n",
    "# Machine Learning Main Ideas\n",
    "Please answer the following questions. Be sure that your solutions are clearly marked and that your document is neatly formatted.\n",
    "\n",
    "You don’t have to rephrase everything in your own words, but if you quote directly, you should cite whatever materials you use (this can be as simple as “from the lecture/page # of book”)."
   ]
  },
  {
   "cell_type": "markdown",
   "id": "7cca3141-fc3c-407f-882c-0cf54ac434a7",
   "metadata": {
    "jp-MarkdownHeadingCollapsed": true,
    "tags": []
   },
   "source": [
    "### Question 1:\n",
    "Define supervised and unsupervised learning. What are the difference(s) between them?\n",
    "\n",
    "> **Supervised learning** involves building a statistical model for predicting, or estimating, an output based on 1 ore more inputs (i.e. Linear, logistic, GAM, boosting, support vector machines). Meanwhile, **unsupervised learning** involves inputs but no supervising output (associated response Y) to accompany it.\n",
    "\n",
    "### Question 2: \n",
    "Explain the difference between a regression model and a classification model, specifically in the context of machine learning.\n",
    "\n",
    "> A regression model aims to predict/estimate some Y that is quantitative (i.e. price, blood pressure, speed) while classification models aim to predict some Y that is qualitative (i.e. survived/died, spam/not spam, fraud/not fraud).\n",
    "\n",
    "### Question 3:\n",
    "Name two commonly used metrics for regression ML problems. Name two commonly used metrics for classification ML problems.\n",
    ">**Regression:** Mean squared error, R-squared, Root mean squared error\n",
    "\n",
    ">**Classification:** Accuracy, Precision, Area under ROC Curve\n",
    "\n",
    "### Question 4:\n",
    "As discussed, statistical models can be used for different purposes. These purposes can generally be classified into the following three categories. Provide a brief description of each.\n",
    "\n",
    "- Descriptive models: \n",
    "> A model to best visually emphasize a trend in data (i.e. using a line, histogram, scatterplot).\n",
    "\n",
    "- Inferential models:\n",
    "> A model to determine which features are significant; the aim is to test theories and stat relationship between outcome & predictor(s).\n",
    "\n",
    "- Predictive models:\n",
    "> A model that aims to predict Y with minimum *reducible* error and isn't focused on hypothesis tests.\n",
    "\n",
    "### Question 5:\n",
    "Predictive models are frequently used in machine learning, and they can usually be described as either mechanistic or empirically-driven. Answer the following questions.\n",
    "\n",
    "- Define mechanistic. Define empirically-driven. How do these model types differ? How are they similar?\n",
    "> **Mechanistic** models specify assumptions and attempt to incorporate known factors about the systems surrounding the data in to the model, while describing the availible data. Meanwhile, **Empirical** models are focused on describing the data with the specification of very few assumptions about the data being analyzed. (Bonate, 2011). Empirically-driven models tend to require a much large # of observations but are much more flexible by default.\n",
    "\n",
    "- In general, is a mechanistic or empirically-driven model easier to understand? Explain your choice.\n",
    "> Mechanistic models are easier to understand as they are parametric and are based off a hypothesized relationship between the variables in the data set that are often already defined. Meanwhile, statistical models usually forego any attempt to explain why the parameters interact the way they do.\n",
    "\n",
    "- Describe how the bias-variance tradeoff is related to the use of mechanistic or empirically-driven models.\n",
    "> The Bias-Variance tradeoff is related to the use of mechanistic/empirically-drive models as it describes a similar back-and-forth exchange where in attempting to minimize a models bias (with a more flexible empirical model), one will often increase it's variance (and vice versa with a less flexible mechanistic model). \n",
    "\n",
    "### Question 6:\n",
    "A political candidate’s campaign has collected some detailed voter history data from their constituents. The campaign is interested in two questions:\n",
    "\n",
    "Classify each question as either predictive or inferential. Explain your reasoning for each.\n",
    "\n",
    "- Given a voter’s profile/data, how likely is it that they will vote in favor of the candidate?\n",
    ">The following is predictive as it seeks to predict some future Y (in this case likelihood of voting for a candidate) based on existing data.\n",
    "\n",
    "- How would a voter’s likelihood of support for the candidate change if they had personal contact with the candidate?\n",
    ">The following would be classified as inferential as it seeks to understand the causal impact of the feature described above."
   ]
  },
  {
   "cell_type": "markdown",
   "id": "e7921d76-fd3e-46cf-ade2-393cbc66f2f4",
   "metadata": {},
   "source": [
    "## Exploratory Data Analysis\n",
    "This section will ask you to complete several exercises. For this homework assignment, we’ll be working with the mpg data set. \n",
    "\n",
    "Exploratory data analysis (or EDA) is not based on a specific set of rules or formulas. It is more of a state of curiosity about data. It’s an iterative process of:\n",
    "\n",
    "- generating questions about data\n",
    "- visualize and transform your data as necessary to get answers\n",
    "- use what you learned to generate more questions\n",
    "\n",
    "A couple questions are always useful when you start out. These are “what variation occurs within the variables,” and “what covariation occurs between the variables.”\n",
    "\n",
    "#### I will be using Pandas, Matplotlib/Seaborn for these exercises"
   ]
  },
  {
   "cell_type": "code",
   "execution_count": 1,
   "id": "fd63198f-6192-4628-91fc-1ac184b9e230",
   "metadata": {
    "tags": []
   },
   "outputs": [],
   "source": [
    "#Loading necessary libraries\n",
    "import pandas as pd #Data manipulation & analysis\n",
    "import numpy as np \n",
    "import seaborn as sns #Data Visualization\n",
    "import matplotlib.pyplot as plt "
   ]
  },
  {
   "cell_type": "code",
   "execution_count": 140,
   "id": "be122925-49e3-4452-abb6-68f27f09ad4b",
   "metadata": {
    "tags": []
   },
   "outputs": [],
   "source": [
    "mpg = pd.read_csv('mpg.csv')\n",
    "mpg.head()\n",
    "mpg = mpg.drop(mpg.columns[0], axis = 1)"
   ]
  },
  {
   "cell_type": "code",
   "execution_count": 152,
   "id": "d5f475e8",
   "metadata": {},
   "outputs": [
    {
     "data": {
      "text/html": [
       "<div>\n",
       "<style scoped>\n",
       "    .dataframe tbody tr th:only-of-type {\n",
       "        vertical-align: middle;\n",
       "    }\n",
       "\n",
       "    .dataframe tbody tr th {\n",
       "        vertical-align: top;\n",
       "    }\n",
       "\n",
       "    .dataframe thead th {\n",
       "        text-align: right;\n",
       "    }\n",
       "</style>\n",
       "<table border=\"1\" class=\"dataframe\">\n",
       "  <thead>\n",
       "    <tr style=\"text-align: right;\">\n",
       "      <th></th>\n",
       "      <th>manufacturer</th>\n",
       "      <th>model</th>\n",
       "      <th>displ</th>\n",
       "      <th>year</th>\n",
       "      <th>cyl</th>\n",
       "      <th>trans</th>\n",
       "      <th>drv</th>\n",
       "      <th>cty</th>\n",
       "      <th>hwy</th>\n",
       "      <th>fl</th>\n",
       "      <th>class</th>\n",
       "    </tr>\n",
       "  </thead>\n",
       "  <tbody>\n",
       "    <tr>\n",
       "      <th>0</th>\n",
       "      <td>audi</td>\n",
       "      <td>a4</td>\n",
       "      <td>1.8</td>\n",
       "      <td>1999</td>\n",
       "      <td>4</td>\n",
       "      <td>auto(l5)</td>\n",
       "      <td>f</td>\n",
       "      <td>18</td>\n",
       "      <td>29</td>\n",
       "      <td>p</td>\n",
       "      <td>compact</td>\n",
       "    </tr>\n",
       "    <tr>\n",
       "      <th>1</th>\n",
       "      <td>audi</td>\n",
       "      <td>a4</td>\n",
       "      <td>1.8</td>\n",
       "      <td>1999</td>\n",
       "      <td>4</td>\n",
       "      <td>manual(m5)</td>\n",
       "      <td>f</td>\n",
       "      <td>21</td>\n",
       "      <td>29</td>\n",
       "      <td>p</td>\n",
       "      <td>compact</td>\n",
       "    </tr>\n",
       "    <tr>\n",
       "      <th>2</th>\n",
       "      <td>audi</td>\n",
       "      <td>a4</td>\n",
       "      <td>2.0</td>\n",
       "      <td>2008</td>\n",
       "      <td>4</td>\n",
       "      <td>manual(m6)</td>\n",
       "      <td>f</td>\n",
       "      <td>20</td>\n",
       "      <td>31</td>\n",
       "      <td>p</td>\n",
       "      <td>compact</td>\n",
       "    </tr>\n",
       "    <tr>\n",
       "      <th>3</th>\n",
       "      <td>audi</td>\n",
       "      <td>a4</td>\n",
       "      <td>2.0</td>\n",
       "      <td>2008</td>\n",
       "      <td>4</td>\n",
       "      <td>auto(av)</td>\n",
       "      <td>f</td>\n",
       "      <td>21</td>\n",
       "      <td>30</td>\n",
       "      <td>p</td>\n",
       "      <td>compact</td>\n",
       "    </tr>\n",
       "    <tr>\n",
       "      <th>4</th>\n",
       "      <td>audi</td>\n",
       "      <td>a4</td>\n",
       "      <td>2.8</td>\n",
       "      <td>1999</td>\n",
       "      <td>6</td>\n",
       "      <td>auto(l5)</td>\n",
       "      <td>f</td>\n",
       "      <td>16</td>\n",
       "      <td>26</td>\n",
       "      <td>p</td>\n",
       "      <td>compact</td>\n",
       "    </tr>\n",
       "    <tr>\n",
       "      <th>5</th>\n",
       "      <td>audi</td>\n",
       "      <td>a4</td>\n",
       "      <td>2.8</td>\n",
       "      <td>1999</td>\n",
       "      <td>6</td>\n",
       "      <td>manual(m5)</td>\n",
       "      <td>f</td>\n",
       "      <td>18</td>\n",
       "      <td>26</td>\n",
       "      <td>p</td>\n",
       "      <td>compact</td>\n",
       "    </tr>\n",
       "    <tr>\n",
       "      <th>6</th>\n",
       "      <td>audi</td>\n",
       "      <td>a4</td>\n",
       "      <td>3.1</td>\n",
       "      <td>2008</td>\n",
       "      <td>6</td>\n",
       "      <td>auto(av)</td>\n",
       "      <td>f</td>\n",
       "      <td>18</td>\n",
       "      <td>27</td>\n",
       "      <td>p</td>\n",
       "      <td>compact</td>\n",
       "    </tr>\n",
       "  </tbody>\n",
       "</table>\n",
       "</div>"
      ],
      "text/plain": [
       "  manufacturer model  displ  year  cyl       trans drv  cty  hwy fl    class\n",
       "0         audi    a4    1.8  1999    4    auto(l5)   f   18   29  p  compact\n",
       "1         audi    a4    1.8  1999    4  manual(m5)   f   21   29  p  compact\n",
       "2         audi    a4    2.0  2008    4  manual(m6)   f   20   31  p  compact\n",
       "3         audi    a4    2.0  2008    4    auto(av)   f   21   30  p  compact\n",
       "4         audi    a4    2.8  1999    6    auto(l5)   f   16   26  p  compact\n",
       "5         audi    a4    2.8  1999    6  manual(m5)   f   18   26  p  compact\n",
       "6         audi    a4    3.1  2008    6    auto(av)   f   18   27  p  compact"
      ]
     },
     "execution_count": 152,
     "metadata": {},
     "output_type": "execute_result"
    }
   ],
   "source": [
    "mpg.head(7)"
   ]
  },
  {
   "cell_type": "markdown",
   "id": "30a7d5e2-3249-4245-80ce-fa27a4769aa5",
   "metadata": {},
   "source": [
    "### Exercise 1:\n",
    "We are interested in highway miles per gallon, or the hwy variable. Create a histogram of this variable. Describe what you see/learn.\n",
    "\n",
    "> After creating the histogram of the **hwy** variable, we see most cars 25-30 mpg range with another significant portion around the 15-20 mpg range."
   ]
  },
  {
   "cell_type": "code",
   "execution_count": 141,
   "id": "83f4c283",
   "metadata": {},
   "outputs": [
    {
     "data": {
      "text/plain": [
       "array([[<Axes: title={'center': 'hwy'}>]], dtype=object)"
      ]
     },
     "execution_count": 141,
     "metadata": {},
     "output_type": "execute_result"
    },
    {
     "data": {
      "image/png": "[encoded data removed]",
      "text/plain": [
       "<Figure size 640x480 with 1 Axes>"
      ]
     },
     "metadata": {},
     "output_type": "display_data"
    }
   ],
   "source": [
    "mpg.hist('hwy')"
   ]
  },
  {
   "cell_type": "markdown",
   "id": "26556a4d-8996-4db9-a85b-fac99d4d0a10",
   "metadata": {},
   "source": [
    "### Exercise 2:\n",
    "Create a scatterplot. Put hwy on the x-axis and cty on the y-axis. Describe what you notice. Is there a relationship between hwy and cty? What does this mean?\n",
    "\n",
    "> There is a clear trend and strong, positive correlation between fuel efficiency between the highway and city. This means that as a car's highway  fuel efficiency goes up, so does it's city efficiency as well."
   ]
  },
  {
   "cell_type": "code",
   "execution_count": 142,
   "id": "1fdbf0b9",
   "metadata": {},
   "outputs": [
    {
     "data": {
      "text/plain": [
       "<matplotlib.collections.PathCollection at 0x177e4833990>"
      ]
     },
     "execution_count": 142,
     "metadata": {},
     "output_type": "execute_result"
    },
    {
     "data": {
      "image/png": "[encoded data removed]",
      "text/plain": [
       "<Figure size 640x480 with 1 Axes>"
      ]
     },
     "metadata": {},
     "output_type": "display_data"
    }
   ],
   "source": [
    "plt.scatter(mpg['hwy'], mpg['cty'])"
   ]
  },
  {
   "cell_type": "markdown",
   "id": "52a8e1b3-08ae-4d12-9f0c-adcdbbe0971c",
   "metadata": {},
   "source": [
    "### Exercise 3:\n",
    "Make a bar plot of manufacturer. Flip it so that the manufacturers are on the y-axis. Order the bars by height. Which manufacturer produced the most cars? Which produced the least?\n",
    "> Dodge had the most cars  while Lincoln had the least"
   ]
  },
  {
   "cell_type": "code",
   "execution_count": 143,
   "id": "442efd91",
   "metadata": {},
   "outputs": [
    {
     "data": {
      "text/plain": [
       "Text(0.5, 0, 'Count of Vehicles')"
      ]
     },
     "execution_count": 143,
     "metadata": {},
     "output_type": "execute_result"
    },
    {
     "data": {
      "image/png": "[encoded data removed]",
      "text/plain": [
       "<Figure size 640x480 with 1 Axes>"
      ]
     },
     "metadata": {},
     "output_type": "display_data"
    }
   ],
   "source": [
    "#Creates a series type that holds count in series.values and index in series.index\n",
    "manufacturer_counts = mpg['manufacturer'].value_counts()\n",
    "\n",
    "#We need to sort the data going into barh() as it doesn't have its own sort feature\n",
    "manufacturer_counts = manufacturer_counts.sort_values(ascending= True)\n",
    "\n",
    "#Using barh() instead of bar() to flip the axes\n",
    "plt.barh(manufacturer_counts.index, manufacturer_counts.values)\n",
    "plt.xlabel(\"Count of Vehicles\") #self explanatory"
   ]
  },
  {
   "cell_type": "markdown",
   "id": "84ad879c-5390-44ed-bcd3-e5bdaa89916c",
   "metadata": {},
   "source": [
    "### Exercise 4:\n",
    "Make a box plot of hwy, grouped by cyl. Use geom_jitter() and the alpha argument to add points to the plot.\n",
    "\n",
    "Describe what you see. Is there a relationship between hwy and cyl? What do you notice?\n",
    "> There is a negative correlation between fuel efficiency on the highway and how many cylinders a car has. Also evident is the rarity of 5 cylinder cars.\n"
   ]
  },
  {
   "cell_type": "code",
   "execution_count": 159,
   "id": "799429b9",
   "metadata": {},
   "outputs": [
    {
     "data": {
      "text/plain": [
       "<Axes: xlabel='cyl', ylabel='hwy'>"
      ]
     },
     "execution_count": 159,
     "metadata": {},
     "output_type": "execute_result"
    },
    {
     "data": {
      "image/png": "[encoded data removed]",
      "text/plain": [
       "<Figure size 640x480 with 1 Axes>"
      ]
     },
     "metadata": {},
     "output_type": "display_data"
    }
   ],
   "source": [
    "#Using seaborn here since it fills in color better and is easier to apply jitter equivalent\n",
    "sns.boxplot(y ='hwy', x='cyl', data = mpg) \n",
    "\n",
    "#Stripplot to create individual observations behind scatterplot, jitter arg. controls spread, alpha controls transparency \n",
    "sns.stripplot(x='cyl', y='hwy', data= mpg, color='black', jitter=0.3, size=3, alpha=0.6) "
   ]
  },
  {
   "cell_type": "markdown",
   "id": "7ecfd78a-576b-4f50-8b47-518060573b1f",
   "metadata": {},
   "source": [
    "### Exercise 5:\n",
    "Use the corrplot package to make a lower triangle correlation matrix of the mpg dataset. \n",
    "\n",
    "Which variables are positively or negatively correlated with which others? Do these relationships make sense to you? Are there any that surprise you?\n",
    "> Based on the lower triangle correlation matrix we see that highway and city fuel efficiency are negatively correlated with cylinder count and displacement. Meanwhile cylinder and displacement have a strong positive correlation. This makes sense as more displacement is calculated by multipying the volume in one cylinder by the number of cylinders in the engine, and thus having a large number of cylinders (and displacement) means more fuel is being burned. City and highway fuel efficiency also had a strong positive correlation which was shown in our scatterplot earlier."
   ]
  },
  {
   "cell_type": "code",
   "execution_count": 157,
   "id": "02e683ff",
   "metadata": {},
   "outputs": [
    {
     "data": {
      "text/html": [
       "<div>\n",
       "<style scoped>\n",
       "    .dataframe tbody tr th:only-of-type {\n",
       "        vertical-align: middle;\n",
       "    }\n",
       "\n",
       "    .dataframe tbody tr th {\n",
       "        vertical-align: top;\n",
       "    }\n",
       "\n",
       "    .dataframe thead th {\n",
       "        text-align: right;\n",
       "    }\n",
       "</style>\n",
       "<table border=\"1\" class=\"dataframe\">\n",
       "  <thead>\n",
       "    <tr style=\"text-align: right;\">\n",
       "      <th></th>\n",
       "      <th>displ</th>\n",
       "      <th>hwy</th>\n",
       "      <th>cty</th>\n",
       "      <th>cyl</th>\n",
       "      <th>year</th>\n",
       "    </tr>\n",
       "  </thead>\n",
       "  <tbody>\n",
       "    <tr>\n",
       "      <th>0</th>\n",
       "      <td>1.8</td>\n",
       "      <td>29</td>\n",
       "      <td>18</td>\n",
       "      <td>4</td>\n",
       "      <td>1999</td>\n",
       "    </tr>\n",
       "    <tr>\n",
       "      <th>1</th>\n",
       "      <td>1.8</td>\n",
       "      <td>29</td>\n",
       "      <td>21</td>\n",
       "      <td>4</td>\n",
       "      <td>1999</td>\n",
       "    </tr>\n",
       "    <tr>\n",
       "      <th>2</th>\n",
       "      <td>2.0</td>\n",
       "      <td>31</td>\n",
       "      <td>20</td>\n",
       "      <td>4</td>\n",
       "      <td>2008</td>\n",
       "    </tr>\n",
       "    <tr>\n",
       "      <th>3</th>\n",
       "      <td>2.0</td>\n",
       "      <td>30</td>\n",
       "      <td>21</td>\n",
       "      <td>4</td>\n",
       "      <td>2008</td>\n",
       "    </tr>\n",
       "    <tr>\n",
       "      <th>4</th>\n",
       "      <td>2.8</td>\n",
       "      <td>26</td>\n",
       "      <td>16</td>\n",
       "      <td>6</td>\n",
       "      <td>1999</td>\n",
       "    </tr>\n",
       "    <tr>\n",
       "      <th>...</th>\n",
       "      <td>...</td>\n",
       "      <td>...</td>\n",
       "      <td>...</td>\n",
       "      <td>...</td>\n",
       "      <td>...</td>\n",
       "    </tr>\n",
       "    <tr>\n",
       "      <th>229</th>\n",
       "      <td>2.0</td>\n",
       "      <td>28</td>\n",
       "      <td>19</td>\n",
       "      <td>4</td>\n",
       "      <td>2008</td>\n",
       "    </tr>\n",
       "    <tr>\n",
       "      <th>230</th>\n",
       "      <td>2.0</td>\n",
       "      <td>29</td>\n",
       "      <td>21</td>\n",
       "      <td>4</td>\n",
       "      <td>2008</td>\n",
       "    </tr>\n",
       "    <tr>\n",
       "      <th>231</th>\n",
       "      <td>2.8</td>\n",
       "      <td>26</td>\n",
       "      <td>16</td>\n",
       "      <td>6</td>\n",
       "      <td>1999</td>\n",
       "    </tr>\n",
       "    <tr>\n",
       "      <th>232</th>\n",
       "      <td>2.8</td>\n",
       "      <td>26</td>\n",
       "      <td>18</td>\n",
       "      <td>6</td>\n",
       "      <td>1999</td>\n",
       "    </tr>\n",
       "    <tr>\n",
       "      <th>233</th>\n",
       "      <td>3.6</td>\n",
       "      <td>26</td>\n",
       "      <td>17</td>\n",
       "      <td>6</td>\n",
       "      <td>2008</td>\n",
       "    </tr>\n",
       "  </tbody>\n",
       "</table>\n",
       "<p>234 rows × 5 columns</p>\n",
       "</div>"
      ],
      "text/plain": [
       "     displ  hwy  cty  cyl  year\n",
       "0      1.8   29   18    4  1999\n",
       "1      1.8   29   21    4  1999\n",
       "2      2.0   31   20    4  2008\n",
       "3      2.0   30   21    4  2008\n",
       "4      2.8   26   16    6  1999\n",
       "..     ...  ...  ...  ...   ...\n",
       "229    2.0   28   19    4  2008\n",
       "230    2.0   29   21    4  2008\n",
       "231    2.8   26   16    6  1999\n",
       "232    2.8   26   18    6  1999\n",
       "233    3.6   26   17    6  2008\n",
       "\n",
       "[234 rows x 5 columns]"
      ]
     },
     "execution_count": 157,
     "metadata": {},
     "output_type": "execute_result"
    }
   ],
   "source": [
    "#Filtering out variables to avoid warning from Python\n",
    "columns = ['displ', 'hwy', 'cty', 'cyl', 'year']\n",
    "mpg_heat = mpg[columns]"
   ]
  },
  {
   "cell_type": "code",
   "execution_count": 158,
   "id": "0834458c",
   "metadata": {},
   "outputs": [
    {
     "data": {
      "text/plain": [
       "<Axes: >"
      ]
     },
     "execution_count": 158,
     "metadata": {},
     "output_type": "execute_result"
    },
    {
     "data": {
      "image/png": "[encoded data removed]",
      "text/plain": [
       "<Figure size 640x480 with 2 Axes>"
      ]
     },
     "metadata": {},
     "output_type": "display_data"
    }
   ],
   "source": [
    "#Mask allows us to filter out the top half of the heat map to create the triangle shape\n",
    "mask = np.triu(np.ones_like(mpg_heat.corr())) \n",
    "#Using seaborn again, annot arg. adds number to each correlation score, and mask applies the mask above\n",
    "sns.heatmap(mpg_heat.corr(), annot=True, mask = mask)"
   ]
  },
  {
   "cell_type": "markdown",
   "id": "9845c17a",
   "metadata": {},
   "source": [
    "## Acknowledgements\n",
    "\n",
    "- Dataset was sourced from a GitHub repository __[here](https://github.com/sidsriv/Introduction-to-Data-Science-in-python/blob/master/mpg.csv)__.\n",
    "- The book *An Introduction to Statistical Learning with Application in Python* was referenced which can be found __[here](https://www.statlearning.com/)__\n",
    "- Documentation for MatPlotlib.pyplot was referenced __[here](https://matplotlib.org/stable/gallery/index.html)__.\n",
    "- Documentation for Pandas functions were referenced __[here](https://pandas.pydata.org/pandas-docs/stable/index.html)__\n",
    "- Documentation for Seaborn functions were referenced __[here](https://seaborn.pydata.org/tutorial/function_overview.html)__\n",
    "- More general documentation inquiries were answered on GeeksforGeeks like this article __[here](https://www.geeksforgeeks.org/how-to-create-a-triangle-correlation-heatmap-in-seaborn-python/)__, and on StackOverflow like this article __[here](https://stackoverflow.com/questions/54424256/sort-bar-chart-by-list-values-in-matplotlib)__."
   ]
  }
 ],
 "metadata": {
  "kernelspec": {
   "display_name": "Python 3 (ipykernel)",
   "language": "python",
   "name": "python3"
  },
  "language_info": {
   "codemirror_mode": {
    "name": "ipython",
    "version": 3
   },
   "file_extension": ".py",
   "mimetype": "text/x-python",
   "name": "python",
   "nbconvert_exporter": "python",
   "pygments_lexer": "ipython3",
   "version": "3.11.4"
  }
 },
 "nbformat": 4,
 "nbformat_minor": 5
}
